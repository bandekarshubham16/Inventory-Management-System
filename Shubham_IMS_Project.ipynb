{
  "nbformat": 4,
  "nbformat_minor": 0,
  "metadata": {
    "colab": {
      "name": "Shubham_IMS Project.ipynb",
      "provenance": []
    },
    "kernelspec": {
      "name": "python3",
      "display_name": "Python 3"
    },
    "language_info": {
      "name": "python"
    }
  },
  "cells": [
    {
      "cell_type": "code",
      "metadata": {
        "id": "Pp_CoGKpNVFp"
      },
      "source": [
        "import json\n",
        "js = json.dumps(inventory)\n",
        "fd = open('inventory.json','w')\n",
        "fd.write(js)\n",
        "fd.close()"
      ],
      "execution_count": 24,
      "outputs": []
    },
    {
      "cell_type": "code",
      "metadata": {
        "id": "bXMVcQMKN6-w"
      },
      "source": [
        "fd = open(\"inventory.json\",'r')\n",
        "r = fd.read()\n",
        "fd.close()\n",
        "\n",
        "records = json.loads(r)"
      ],
      "execution_count": 25,
      "outputs": []
    },
    {
      "cell_type": "code",
      "metadata": {
        "colab": {
          "base_uri": "https://localhost:8080/"
        },
        "id": "bOFPJhStOOHo",
        "outputId": "14107eea-211f-4086-8eaf-bda48a5d3460"
      },
      "source": [
        "for i in records:\n",
        "  print('Product ID:{}, Name: {}, Cost: {}, Company: {}'.format(i,records[i]['Name'], records[i]['Cost'], records[i]['Company']))"
      ],
      "execution_count": 26,
      "outputs": [
        {
          "output_type": "stream",
          "name": "stdout",
          "text": [
            "Product ID:700001, Name: Basketball, Cost: 350, Company: NIVIA\n",
            "Product ID:700002, Name: Football, Cost: 900, Company: NIKE\n",
            "Product ID:700003, Name: Volleyball, Cost: 700, Company: NIVIA\n",
            "Product ID:700004, Name: Cricket ball, Cost: 250, Company: Kookaburra \n",
            "Product ID:700005, Name: Tennis ball, Cost: 70, Company: Cosco\n",
            "Product ID:700006, Name: Baseball, Cost: 350, Company: Arnav\n",
            "Product ID:700007, Name: Hockey ball, Cost: 200, Company: cameo\n",
            "Product ID:700008, Name: Bowling ball, Cost: 600, Company: Cosco\n",
            "Product ID:700009, Name: American Football, Cost: 650, Company: NIKE\n",
            "Product ID:700010, Name: Handball, Cost: 280, Company: Adidas\n",
            "Product ID:700011, Name: Golfball, Cost: 180, Company: Reebok\n",
            "Product ID:700012, Name: Tennis cock, Cost: 140, Company: NIVIA\n",
            "Product ID:700013, Name: Cricket bat, Cost: 1500, Company: Reebok\n",
            "Product ID:700014, Name: Hockey stick, Cost: 900, Company: NIKE\n",
            "Product ID:700015, Name: Tennis Racket, Cost: 780, Company: NIVIA\n",
            "Product ID:700016, Name: Badminton Racket, Cost: 450, Company: NIVIA\n",
            "Product ID:700017, Name: Volleyball net, Cost: 1000, Company: Arnav\n",
            "Product ID:700018, Name: Cricket shoes, Cost: 850, Company: Reebok\n",
            "Product ID:700019, Name: Stud, Cost: 1000, Company: NIKE\n",
            "Product ID:700020, Name: Supporter, Cost: 280, Company: Reebok\n",
            "Product ID:700021, Name: Cricket gloves, Cost: 500, Company: Reebok\n",
            "Product ID:700022, Name: Keeping gloves, Cost: 700, Company: Adidas\n",
            "Product ID:700023, Name: Skipping rope, Cost: 200, Company: NIKE\n",
            "Product ID:700024, Name: Stumps, Cost: 300, Company: Cosco\n",
            "Product ID:700025, Name: Cricket kit, Cost: 2500, Company: Adidas\n",
            "Product ID:700026, Name: Football kit, Cost: 2000, Company: NIVIA\n",
            "Product ID:700027, Name: Basketball kit, Cost: 1500, Company: Adidas\n",
            "Product ID:700028, Name: Handball kit, Cost: 1200, Company: NIKE\n",
            "Product ID:700029, Name: Air pump, Cost: 400, Company: Anand\n",
            "Product ID:700030, Name: Helmet, Cost: 500, Company: NIKE\n"
          ]
        }
      ]
    },
    {
      "cell_type": "code",
      "metadata": {
        "colab": {
          "base_uri": "https://localhost:8080/"
        },
        "id": "loJP7JxePdvK",
        "outputId": "39add9ef-00d7-417a-ebae-20a54853e6cd"
      },
      "source": [
        "ui_name = str(input(\"Customer name: \"))\n",
        "ui_prodID  = str(input(\"Enter the Product Id: \"))\n",
        "ui_quant = int(input(\"Enter the quantity: \"))\n",
        "\n",
        "print(\"*\" * 20)\n",
        "print(ui_name)\n",
        "print(\"*\" * 20)\n",
        "print(\" \")\n",
        "print(\"Product: \", records[ui_prodID]['Name'])\n",
        "print(\"Cost: \", records[ui_prodID]['Cost'])\n",
        "print(\"Quantity bought: \", ui_quant)\n",
        "print(\" \")\n",
        "print(\"*\" * 20)\n",
        "print(\" \")\n",
        "print(\"Billing Amount: \", records[ui_prodID]['Cost'] * ui_quant)\n",
        "print(\"*\" * 20)\n",
        "\n",
        "records[ui_prodID]['Quantity'] = records[ui_prodID]['Quantity'] - ui_quant"
      ],
      "execution_count": 27,
      "outputs": [
        {
          "output_type": "stream",
          "name": "stdout",
          "text": [
            "Customer name: Shubham Bandekar\n",
            "Enter the Product Id: 700025\n",
            "Enter the quantity: 2\n",
            "********************\n",
            "Shubham Bandekar\n",
            "********************\n",
            " \n",
            "Product:  Cricket kit\n",
            "Cost:  2500\n",
            "Quantity bought:  2\n",
            " \n",
            "********************\n",
            " \n",
            "Billing Amount:  5000\n",
            "********************\n"
          ]
        }
      ]
    },
    {
      "cell_type": "code",
      "metadata": {
        "id": "EYplVLbdS56p"
      },
      "source": [
        "js = json.dumps(records)\n",
        "\n",
        "fd = open(\"inventory.json\",'w')\n",
        "fd.write(js)\n",
        "fd.close()"
      ],
      "execution_count": 28,
      "outputs": []
    },
    {
      "cell_type": "code",
      "metadata": {
        "id": "d6yuWKiNTzEy"
      },
      "source": [
        "sales = {'Customer name:' : ui_name, 'Name': records[ui_prodID]['Name'], 'Product ID' : ui_prodID, 'Quantity' : ui_quant, 'Billing amount': records[ui_prodID]['Cost'] * ui_quant}\n",
        "sale = json.dumps(sales)\n",
        "fd = open(\"sales.json\",'w')\n",
        "fd.write(sale)\n",
        "fd.close()"
      ],
      "execution_count": 29,
      "outputs": []
    }
  ]
}